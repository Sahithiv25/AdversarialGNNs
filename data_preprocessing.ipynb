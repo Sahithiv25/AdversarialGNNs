{
 "cells": [
  {
   "cell_type": "code",
   "execution_count": null,
   "metadata": {},
   "outputs": [],
   "source": [
    "%pip install rdkit\n",
    "%pip install seaborn"
   ]
  },
  {
   "cell_type": "code",
   "execution_count": null,
   "metadata": {},
   "outputs": [],
   "source": []
  },
  {
   "cell_type": "code",
   "execution_count": null,
   "metadata": {},
   "outputs": [],
   "source": [
    "import pandas as pd\n",
    "\n",
    "# Load filtered activity data\n",
    "filtered_data = pd.read_csv(\"dataset/filtered_activities.csv\")\n",
    "\n",
    "# Load compound structures with SMILES\n",
    "compound_structures = pd.read_csv(\"dataset/compound_structures.csv\")\n",
    "filtered_data = filtered_data.merge(compound_structures, on=\"molregno\", how=\"left\")\n",
    "\n",
    "# Load drug mechanism data\n",
    "drug_mechanism = pd.read_csv(\"dataset/drug_mechanism.csv\")\n",
    "filtered_data = filtered_data.merge(drug_mechanism, on=\"molregno\", how=\"left\")\n",
    "\n",
    "# Load target information\n",
    "target_info = pd.read_csv(\"dataset/targets.csv\")\n",
    "filtered_data = filtered_data.merge(target_info, on=\"tid\", how=\"left\")\n",
    "\n",
    "filtered_data.head()\n"
   ]
  },
  {
   "cell_type": "code",
   "execution_count": 5,
   "metadata": {},
   "outputs": [],
   "source": [
    "filtered_data = pd.read_csv(\"dataset/filtered_activities.csv\", low_memory=False, dtype={'standard_type': 'str'})"
   ]
  },
  {
   "cell_type": "code",
   "execution_count": null,
   "metadata": {},
   "outputs": [],
   "source": [
    "# Unique values in each table for molregno\n",
    "unique_molregno_filtered = set(filtered_data['molregno'].unique())\n",
    "unique_molregno_structures = set(compound_structures['molregno'].unique())\n",
    "unique_molregno_mechanism = set(drug_mechanism['molregno'].unique())\n",
    "\n",
    "print(\"Common molregno between filtered_data and compound_structures:\", len(unique_molregno_filtered & unique_molregno_structures))\n",
    "print(\"Common molregno between filtered_data and drug_mechanism:\", len(unique_molregno_filtered & unique_molregno_mechanism))"
   ]
  },
  {
   "cell_type": "code",
   "execution_count": 7,
   "metadata": {},
   "outputs": [],
   "source": [
    "# Filter the data for common molregno values\n",
    "common_molregno_mechanism = unique_molregno_filtered & unique_molregno_mechanism\n",
    "filtered_data = filtered_data[filtered_data['molregno'].isin(common_molregno_mechanism)]\n",
    "compound_structures = compound_structures[compound_structures['molregno'].isin(common_molregno_mechanism)]\n",
    "drug_mechanism = drug_mechanism[drug_mechanism['molregno'].isin(common_molregno_mechanism)]\n"
   ]
  },
  {
   "cell_type": "code",
   "execution_count": null,
   "metadata": {},
   "outputs": [],
   "source": [
    "# check for missing values\n",
    "missing_data = filtered_data.isnull().sum()\n",
    "print(missing_data[missing_data > 0])"
   ]
  },
  {
   "cell_type": "code",
   "execution_count": 9,
   "metadata": {},
   "outputs": [],
   "source": [
    "# merge the tables\n",
    "# Merge compound structures with the main filtered data\n",
    "merged_data = filtered_data.merge(compound_structures[['molregno', 'canonical_smiles']], on='molregno', how='left')\n",
    "\n",
    "# Merge drug mechanism information\n",
    "merged_data = merged_data.merge(drug_mechanism[['molregno', 'mechanism_of_action', 'tid']], on='molregno', how='left')\n"
   ]
  },
  {
   "cell_type": "code",
   "execution_count": null,
   "metadata": {},
   "outputs": [],
   "source": [
    "merged_data.head()"
   ]
  },
  {
   "cell_type": "code",
   "execution_count": 11,
   "metadata": {},
   "outputs": [],
   "source": [
    "merged_data.to_csv(\"final_dataset.csv\")"
   ]
  },
  {
   "cell_type": "code",
   "execution_count": null,
   "metadata": {},
   "outputs": [],
   "source": [
    "merged_data.columns"
   ]
  },
  {
   "cell_type": "code",
   "execution_count": null,
   "metadata": {},
   "outputs": [],
   "source": [
    "# Summary statistics\n",
    "print(merged_data.describe())\n",
    "\n",
    "# Check for missing values\n",
    "missing_data = merged_data.isnull().sum()\n",
    "print(\"Missing values:\\n\", missing_data[missing_data > 0])"
   ]
  },
  {
   "cell_type": "code",
   "execution_count": null,
   "metadata": {},
   "outputs": [],
   "source": [
    "# distribution of bio activity values\n",
    "import matplotlib.pyplot as plt\n",
    "import seaborn as sns\n",
    "\n",
    "plt.figure(figsize=(5, 5))\n",
    "sns.histplot(merged_data['standard_value'].dropna(), bins=50, kde=True)\n",
    "plt.title('Distribution of Standard Bioactivity Values')\n",
    "plt.xlabel('type')\n",
    "plt.ylabel('Frequency')\n",
    "plt.show()\n"
   ]
  },
  {
   "cell_type": "code",
   "execution_count": null,
   "metadata": {},
   "outputs": [],
   "source": [
    "# Mechanism of action analysis\n",
    "\n",
    "plt.figure(figsize=(10, 6))\n",
    "sns.countplot(y=merged_data['mechanism_of_action_y'], order=merged_data['mechanism_of_action_y'].value_counts().index[:10])\n",
    "plt.title('Top 10 Mechanisms of Action')\n",
    "plt.xlabel('Count')\n",
    "plt.ylabel('Mechanism of Action')\n",
    "plt.show()\n",
    "\n"
   ]
  },
  {
   "cell_type": "code",
   "execution_count": null,
   "metadata": {},
   "outputs": [],
   "source": [
    "# Relationship between Bioactivity and Mechanism of Action\n",
    "plt.figure(figsize=(12, 8))\n",
    "sns.boxplot(data=merged_data, x='mechanism_of_action_y', y='standard_value')\n",
    "plt.title('Bioactivity by Mechanism of Action')\n",
    "plt.xlabel('Mechanism of Action_y')\n",
    "plt.ylabel('Standard Value')\n",
    "plt.xticks(rotation=90)\n",
    "plt.show()\n"
   ]
  },
  {
   "cell_type": "code",
   "execution_count": null,
   "metadata": {},
   "outputs": [],
   "source": [
    "# Frequency of biological targets\n",
    "plt.figure(figsize=(10, 6))\n",
    "sns.countplot(y=merged_data['pref_name'], order=merged_data['pref_name'].value_counts().index[:10])\n",
    "plt.title('Top 10 Biological Targets')\n",
    "plt.xlabel('Count')\n",
    "plt.ylabel('Target')\n",
    "plt.show()\n"
   ]
  },
  {
   "cell_type": "code",
   "execution_count": null,
   "metadata": {},
   "outputs": [],
   "source": [
    "numerical_cols = ['standard_value', 'value', 'pchembl_value']  \n",
    "sns.pairplot(merged_data[numerical_cols].dropna())\n",
    "plt.show()\n"
   ]
  },
  {
   "cell_type": "code",
   "execution_count": null,
   "metadata": {},
   "outputs": [],
   "source": [
    "organism_mechanism_data = merged_data[['organism', 'mechanism_of_action_x']].dropna()\n",
    "\n",
    "# Filter for top 10 mechanisms of action\n",
    "top_mechanisms = organism_mechanism_data['mechanism_of_action_x'].value_counts().index[:10]\n",
    "filtered_data = organism_mechanism_data[organism_mechanism_data['mechanism_of_action_x'].isin(top_mechanisms)]\n",
    "\n",
    "plt.figure(figsize=(12, 8))\n",
    "sns.countplot(data=filtered_data, y='mechanism_of_action_x', hue='organism')\n",
    "plt.title('Top 10 Mechanisms of Action by Organism')\n",
    "plt.xlabel('Count')\n",
    "plt.ylabel('Mechanism of Action')\n",
    "plt.legend(title='Organism', bbox_to_anchor=(1.05, 1), loc='upper left')\n",
    "plt.tight_layout()\n",
    "plt.show()"
   ]
  }
 ],
 "metadata": {
  "kernelspec": {
   "display_name": "AdvGNNs",
   "language": "python",
   "name": "python3"
  },
  "language_info": {
   "codemirror_mode": {
    "name": "ipython",
    "version": 3
   },
   "file_extension": ".py",
   "mimetype": "text/x-python",
   "name": "python",
   "nbconvert_exporter": "python",
   "pygments_lexer": "ipython3",
   "version": "3.12.3"
  }
 },
 "nbformat": 4,
 "nbformat_minor": 2
}
